{
 "cells": [
  {
   "cell_type": "markdown",
   "metadata": {},
   "source": [
    "### Example Drawing"
   ]
  },
  {
   "cell_type": "code",
   "execution_count": 2,
   "metadata": {},
   "outputs": [
    {
     "data": {
      "application/vnd.jupyter.widget-view+json": {
       "model_id": "8fb5f1563d5742e6bb98ad1573ead8e3",
       "version_major": 2,
       "version_minor": 0
      },
      "text/plain": [
       "Drawing(height=400, sync_image_data=True, width=400)"
      ]
     },
     "metadata": {},
     "output_type": "display_data"
    }
   ],
   "source": [
    "from drawing import *                                                                          \n",
    "image = Drawing(400, 400)                                                                      \n",
    "image.set_coords(0, 0, 1, 1)                                                                   \n",
    "image.add( Polygon([Point(0.1,.3), Point(0.5,0.9), Point(0.9,0.5)]) )                          \n",
    "image.add( Text( Point(0.4, 0.2), \"It's a triangle!\") )                                        \n",
    "image.draw()"
   ]
  }
 ],
 "metadata": {
  "kernelspec": {
   "display_name": "Python 3",
   "language": "python",
   "name": "python3"
  },
  "language_info": {
   "codemirror_mode": {
    "name": "ipython",
    "version": 3
   },
   "file_extension": ".py",
   "mimetype": "text/x-python",
   "name": "python",
   "nbconvert_exporter": "python",
   "pygments_lexer": "ipython3",
   "version": "3.8.4"
  }
 },
 "nbformat": 4,
 "nbformat_minor": 4
}
