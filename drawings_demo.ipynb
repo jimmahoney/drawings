{
 "cells": [
  {
   "cell_type": "markdown",
   "metadata": {},
   "source": [
    "# Drawings Demo\n",
    "\n",
    "Here's some of what the drawing.py module can do."
   ]
  },
  {
   "cell_type": "code",
   "execution_count": 17,
   "metadata": {},
   "outputs": [],
   "source": [
    "from drawing import Drawing, Line, Point, Circle, Rectangle, CrudeLine, Polygon, Text"
   ]
  },
  {
   "cell_type": "code",
   "execution_count": 19,
   "metadata": {},
   "outputs": [
    {
     "data": {
      "application/vnd.jupyter.widget-view+json": {
       "model_id": "98df97da2f784598845a0c5cd8672228",
       "version_major": 2,
       "version_minor": 0
      },
      "text/plain": [
       "Drawing(height=300, sync_image_data=True, width=800)"
      ]
     },
     "metadata": {},
     "output_type": "display_data"
    }
   ],
   "source": [
    "\n",
    "# 1. Create a drawing object to hold all the pieces.\n",
    "demo = Drawing(width=800, height=300, background=\"#000000ff\")\n",
    "\n",
    "# 2. Add some shapes to it.\n",
    "\n",
    "demo.add( Line(Point(20, 40), Point(600, 150), color='yellow', line_width=4) )\n",
    "demo.add( Circle(Point(300, 120), 50, color='#aa00cc99', outline='cyan') )\n",
    "demo.add( Polygon( (Point(380, 280), Point(400, 200), \n",
    "                    Point(500, 230), Point(590, 200), Point(630, 250)),\n",
    "                    color='blue', outline='white') )\n",
    "(p1, p2, p3) = (Point(100,220), Point(150, 100), Point(200, 130))\n",
    "demo.add( CrudeLine(p1, p2) )\n",
    "demo.add( CrudeLine(p2, p3) )\n",
    "demo.add( CrudeLine(p3, p1) )\n",
    "demo.add( Text(Point(550, 80), \"It's a demo!\", face='40px Averia', color='floralwhite' ))\n",
    "\n",
    "# 3. Render and display the drawing below this cell.\n",
    "\n",
    "demo.draw()"
   ]
  },
  {
   "cell_type": "code",
   "execution_count": 29,
   "metadata": {},
   "outputs": [],
   "source": [
    "# Save a png image of the drawing to a file. \n",
    "# (This only works in another cell below the drawing, after it's been displayed.)\n",
    "demo.write_file('demo.png')"
   ]
  },
  {
   "cell_type": "code",
   "execution_count": 21,
   "metadata": {},
   "outputs": [
    {
     "name": "stdout",
     "output_type": "stream",
     "text": [
      "Crude Stars\n"
     ]
    },
    {
     "data": {
      "application/vnd.jupyter.widget-view+json": {
       "model_id": "25e787e04563457780882e7871c1f907",
       "version_major": 2,
       "version_minor": 0
      },
      "text/plain": [
       "Drawing(sync_image_data=True, width=500)"
      ]
     },
     "metadata": {},
     "output_type": "display_data"
    }
   ],
   "source": [
    "print(\"Crude Stars\")        \n",
    "\n",
    "def star(center, size, color, drawing, crudity):\n",
    "    from numpy import pi, sin, cos\n",
    "    for i in range(5):\n",
    "        theta0 = 4 * pi * i / 5\n",
    "        theta1 = 4 * pi * (i+1) / 5\n",
    "        # Points, like mathemetcial vectors, can be added togehter and multiplied by scalars.\n",
    "        point_a = center + size * Point(cos(theta0), sin(theta0)) # vector + scalar * vector\n",
    "        point_b = center + size * Point(cos(theta1), sin(theta1))\n",
    "        drawing.add( CrudeLine(point_a, point_b, color=color, crudity=crudity ) )\n",
    "\n",
    "sky = Drawing()\n",
    "points = ((300,300), (100,180), (150,400), (380,120))\n",
    "sizes = (50, 40, 60, 80)\n",
    "colors = ('blue', 'green', 'cyan', 'red')\n",
    "for (xy, size, color) in zip(points, sizes, colors):\n",
    "    star(Point(*xy), size, color, sky, 5)\n",
    "sky.draw()"
   ]
  },
  {
   "cell_type": "code",
   "execution_count": 30,
   "metadata": {},
   "outputs": [],
   "source": [
    "sky.write_file('stars.png')"
   ]
  },
  {
   "cell_type": "code",
   "execution_count": 23,
   "metadata": {},
   "outputs": [
    {
     "data": {
      "application/vnd.jupyter.widget-view+json": {
       "model_id": "27275645ae3e4e108ece2d444d73e032",
       "version_major": 2,
       "version_minor": 0
      },
      "text/plain": [
       "Drawing(height=200, sync_image_data=True, width=200)"
      ]
     },
     "metadata": {},
     "output_type": "display_data"
    }
   ],
   "source": [
    "# Here's the example from the drawing.py documentation.\n",
    "d = Drawing(200, 200, background='#999999')\n",
    "d.add( Rectangle(Point(10, 10), Point(180, 160), color='#aaccee') )\n",
    "d.add( Polygon([Point(30, 40), Point(40, 100), Point(150, 130)], outline='black', color=None) )\n",
    "d.add( Circle(Point(100, 100), radius=40, color='#996633cc'))\n",
    "d.add( Text(Point(50, 185), \"It's a drawing!\", face=\"18px Helvetica\", color='darkblue' ) )\n",
    "d.draw()"
   ]
  },
  {
   "cell_type": "code",
   "execution_count": 53,
   "metadata": {},
   "outputs": [
    {
     "data": {
      "application/vnd.jupyter.widget-view+json": {
       "model_id": "839e2235b92b4b3ebc93845bf78bafdd",
       "version_major": 2,
       "version_minor": 0
      },
      "text/plain": [
       "Drawing(sync_image_data=True, width=500)"
      ]
     },
     "metadata": {},
     "output_type": "display_data"
    }
   ],
   "source": [
    "# Let's see what some blue-ish points look like ...\n",
    "from random import randint\n",
    "from drawing import rgb_color\n",
    "dots = Drawing(500, 500)\n",
    "for i in range(40000):\n",
    "    dots.add(Point(randint(0, 500), randint(0, 500), \n",
    "                   color=rgb_color(randint(0,40), \n",
    "                                   randint(40,80), \n",
    "                                   randint(80,120))\n",
    "                  ))\n",
    "dots.draw()"
   ]
  },
  {
   "cell_type": "code",
   "execution_count": 54,
   "metadata": {},
   "outputs": [],
   "source": [
    "dots.to_file('dots.png')"
   ]
  },
  {
   "cell_type": "code",
   "execution_count": 38,
   "metadata": {},
   "outputs": [
    {
     "data": {
      "application/vnd.jupyter.widget-view+json": {
       "model_id": "6abef9a631fe47048b0f077c25e3445b",
       "version_major": 2,
       "version_minor": 0
      },
      "text/plain": [
       "Drawing(height=2000, sync_image_data=True, width=2000)"
      ]
     },
     "metadata": {},
     "output_type": "display_data"
    }
   ],
   "source": [
    "# Sol Levitt's wall drawing 86 \n",
    "#\n",
    "# See https://massmoca.org/event/walldrawing86/\n",
    "# \"Ten thousand lines about 10 inches (25 cm) long, covering the wall evenly.\"\n",
    "#\n",
    "# Let's assume that the wall is 10 feet by 10 feet and about\" means 90% to 110% of 10 inches.\n",
    "# The result is going to be strongly depenendent on the thickness of the line compared\n",
    "# to the size of the canvas ... I'm not sure I have the resolution here to get pencil width.\n",
    "# At least, with the values here, the line density is much higher than on the massmocha image.\n",
    "\n",
    "from random import randint, random\n",
    "from numpy import pi, sin, cos\n",
    "\n",
    "wall_inches = 12 * 12  # 12 feet\n",
    "line_inches = 10       \n",
    "wall_pixels = 2000                                    \n",
    "line_pixels = wall_pixels * line_inches / wall_inches\n",
    "min_length = 0.9 * line_pixels\n",
    "max_length = 1.1 * line_pixels\n",
    "line_color = '#333333cc'       # fairly dark, mostly opaque\n",
    "background = '#dddddd'    # fairly white\n",
    "n_lines = 10000\n",
    "\n",
    "wall86 = Drawing(width=wall_pixels, height=wall_pixels, background=background)\n",
    "\n",
    "for i in range(n_lines):\n",
    "    x0 = randint(0, wall_pixels)\n",
    "    y0 = randint(0, wall_pixels)\n",
    "    theta = 2 * pi * random()\n",
    "    length = min_length + (max_length - min_length) * random()\n",
    "    x1 = x0 + length * cos(theta)\n",
    "    y1 = y0 + length * sin(theta)\n",
    "    random_line = CrudeLine(\n",
    "        Point(x0,y0), Point(x1,y1), \n",
    "        line_width=1, crudity=4, color=line_color)\n",
    "    wall86.add( random_line )\n",
    "    \n",
    "wall86.draw()"
   ]
  },
  {
   "cell_type": "code",
   "execution_count": 40,
   "metadata": {},
   "outputs": [],
   "source": [
    "wall86.write_file('wall86.png')"
   ]
  }
 ],
 "metadata": {
  "kernelspec": {
   "display_name": "Python 3",
   "language": "python",
   "name": "python3"
  },
  "language_info": {
   "codemirror_mode": {
    "name": "ipython",
    "version": 3
   },
   "file_extension": ".py",
   "mimetype": "text/x-python",
   "name": "python",
   "nbconvert_exporter": "python",
   "pygments_lexer": "ipython3",
   "version": "3.8.4"
  }
 },
 "nbformat": 4,
 "nbformat_minor": 2
}
